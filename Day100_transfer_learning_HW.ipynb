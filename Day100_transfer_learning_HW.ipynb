{
 "cells": [
  {
   "cell_type": "markdown",
   "metadata": {},
   "source": [
    "## 作業\n",
    "礙於不是所有同學都有 GPU ，這邊的範例使用的是簡化版本的 ResNet，確保所有同學都能夠順利訓練!\n",
    "\n",
    "\n",
    "最後一天的作業請閱讀這篇非常詳盡的[文章](https://blog.gtwang.org/programming/keras-resnet-50-pre-trained-model-build-dogs-cats-image-classification-system/)，基本上已經涵蓋了所有訓練　CNN 常用的技巧，請使用所有學過的訓練技巧，盡可能地提高 Cifar-10 的 test data 準確率，截圖你最佳的結果並上傳來完成最後一次的作業吧!\n",
    "\n",
    "另外這些技巧在 Kaggle 上也會被許多人使用，更有人會開發一些新的技巧，例如使把預訓練在 ImageNet 上的模型當成 feature extractor 後，再拿擷取出的特徵重新訓練新的模型，這些技巧再進階的課程我們會在提到，有興趣的同學也可以[參考](https://www.kaggle.com/insaff/img-feature-extraction-with-pretrained-resnet)"
   ]
  },
  {
   "cell_type": "code",
   "execution_count": 1,
   "metadata": {},
   "outputs": [
    {
     "name": "stderr",
     "output_type": "stream",
     "text": [
      "Using TensorFlow backend.\n"
     ]
    }
   ],
   "source": [
    "from keras.layers import Convolution2D\n",
    "from keras.layers import MaxPooling2D\n",
    "from keras.layers import Flatten\n",
    "from keras.layers import Dense\n",
    "from keras.layers import Dropout\n",
    "from keras.models import Model\n",
    "from keras.layers import GlobalAveragePooling2D\n",
    "from keras import backend as K\n",
    "from keras.layers import Input\n",
    " \n",
    "import numpy as np\n",
    "from sklearn.preprocessing import OneHotEncoder\n",
    "import pandas as pd\n",
    "import matplotlib.pyplot as plt\n",
    "%matplotlib inline\n",
    "import warnings\n",
    "warnings.filterwarnings('ignore')"
   ]
  },
  {
   "cell_type": "code",
   "execution_count": 2,
   "metadata": {},
   "outputs": [
    {
     "name": "stdout",
     "output_type": "stream",
     "text": [
      "x_train shape: (50000, 32, 32, 3)\n",
      "50000 train samples\n",
      "10000 test samples\n"
     ]
    }
   ],
   "source": [
    "from keras.datasets import cifar10\n",
    "(x_train, y_train), (x_test, y_test) = cifar10.load_data()\n",
    "print('x_train shape:', x_train.shape)\n",
    "print(x_train.shape[0], 'train samples')\n",
    "print(x_test.shape[0], 'test samples')\n",
    "x_train = x_train.astype('float32')\n",
    "x_test = x_test.astype('float32')\n",
    "\n",
    "x_train = x_train / 255.\n",
    "x_test = x_test / 255.\n",
    "\n",
    "one_hot = OneHotEncoder()\n",
    "y_train = one_hot.fit_transform(y_train.reshape(-1,1)).toarray()\n",
    "y_test = one_hot.transform(y_test.reshape(-1,1)).toarray()"
   ]
  },
  {
   "cell_type": "code",
   "execution_count": 3,
   "metadata": {},
   "outputs": [
    {
     "name": "stdout",
     "output_type": "stream",
     "text": [
      "22\n",
      "_________________________________________________________________\n",
      "Layer (type)                 Output Shape              Param #   \n",
      "=================================================================\n",
      "input_1 (InputLayer)         (None, 32, 32, 3)         0         \n",
      "_________________________________________________________________\n",
      "block1_conv1 (Conv2D)        (None, 32, 32, 64)        1792      \n",
      "_________________________________________________________________\n",
      "block1_conv2 (Conv2D)        (None, 32, 32, 64)        36928     \n",
      "_________________________________________________________________\n",
      "block1_pool (MaxPooling2D)   (None, 16, 16, 64)        0         \n",
      "_________________________________________________________________\n",
      "block2_conv1 (Conv2D)        (None, 16, 16, 128)       73856     \n",
      "_________________________________________________________________\n",
      "block2_conv2 (Conv2D)        (None, 16, 16, 128)       147584    \n",
      "_________________________________________________________________\n",
      "block2_pool (MaxPooling2D)   (None, 8, 8, 128)         0         \n",
      "_________________________________________________________________\n",
      "block3_conv1 (Conv2D)        (None, 8, 8, 256)         295168    \n",
      "_________________________________________________________________\n",
      "block3_conv2 (Conv2D)        (None, 8, 8, 256)         590080    \n",
      "_________________________________________________________________\n",
      "block3_conv3 (Conv2D)        (None, 8, 8, 256)         590080    \n",
      "_________________________________________________________________\n",
      "block3_conv4 (Conv2D)        (None, 8, 8, 256)         590080    \n",
      "_________________________________________________________________\n",
      "block3_pool (MaxPooling2D)   (None, 4, 4, 256)         0         \n",
      "_________________________________________________________________\n",
      "block4_conv1 (Conv2D)        (None, 4, 4, 512)         1180160   \n",
      "_________________________________________________________________\n",
      "block4_conv2 (Conv2D)        (None, 4, 4, 512)         2359808   \n",
      "_________________________________________________________________\n",
      "block4_conv3 (Conv2D)        (None, 4, 4, 512)         2359808   \n",
      "_________________________________________________________________\n",
      "block4_conv4 (Conv2D)        (None, 4, 4, 512)         2359808   \n",
      "_________________________________________________________________\n",
      "block4_pool (MaxPooling2D)   (None, 2, 2, 512)         0         \n",
      "_________________________________________________________________\n",
      "block5_conv1 (Conv2D)        (None, 2, 2, 512)         2359808   \n",
      "_________________________________________________________________\n",
      "block5_conv2 (Conv2D)        (None, 2, 2, 512)         2359808   \n",
      "_________________________________________________________________\n",
      "block5_conv3 (Conv2D)        (None, 2, 2, 512)         2359808   \n",
      "_________________________________________________________________\n",
      "block5_conv4 (Conv2D)        (None, 2, 2, 512)         2359808   \n",
      "_________________________________________________________________\n",
      "block5_pool (MaxPooling2D)   (None, 1, 1, 512)         0         \n",
      "_________________________________________________________________\n",
      "flatten_1 (Flatten)          (None, 512)               0         \n",
      "_________________________________________________________________\n",
      "dense_1 (Dense)              (None, 1000)              513000    \n",
      "_________________________________________________________________\n",
      "dropout_1 (Dropout)          (None, 1000)              0         \n",
      "_________________________________________________________________\n",
      "dense_2 (Dense)              (None, 100)               100100    \n",
      "_________________________________________________________________\n",
      "dropout_2 (Dropout)          (None, 100)               0         \n",
      "_________________________________________________________________\n",
      "dense_3 (Dense)              (None, 10)                1010      \n",
      "=================================================================\n",
      "Total params: 20,638,494\n",
      "Trainable params: 614,110\n",
      "Non-trainable params: 20,024,384\n",
      "_________________________________________________________________\n"
     ]
    }
   ],
   "source": [
    "from keras.applications.vgg19 import VGG19\n",
    "input_tensor = Input(shape=(32, 32, 3))\n",
    "\n",
    "model_vgg = VGG19(include_top=False, weights='imagenet',\n",
    "                  input_tensor=input_tensor,classes=10)\n",
    "train_layer = len(model_vgg.layers)\n",
    "print(train_layer)\n",
    "x = model_vgg.output\n",
    "\n",
    "x = Flatten()(x)\n",
    "x = Dense(1000, activation='relu')(x)\n",
    "x = Dropout(0.1)(x)\n",
    "\n",
    "x = Dense(100, activation='relu')(x)\n",
    "x = Dropout(0.1)(x)\n",
    "out = Dense(10, activation='softmax')(x)\n",
    "\n",
    "model_vgg = Model(inputs=model_vgg.input, outputs=out)\n",
    "\n",
    "for layer in model_vgg.layers[:train_layer]:\n",
    "    layer.trainable = False\n",
    "for layer in model_vgg.layers[train_layer:]:\n",
    "    layer.trainable = True\n",
    "model_vgg.summary()"
   ]
  },
  {
   "cell_type": "code",
   "execution_count": 4,
   "metadata": {},
   "outputs": [
    {
     "name": "stdout",
     "output_type": "stream",
     "text": [
      "Epoch 1/20\n",
      "50000/50000 [==============================] - 45s 905us/step - loss: 1.4369 - acc: 0.4915\n",
      "Epoch 2/20\n",
      "50000/50000 [==============================] - 44s 872us/step - loss: 1.2589 - acc: 0.5578\n",
      "Epoch 3/20\n",
      "50000/50000 [==============================] - 44s 873us/step - loss: 1.1845 - acc: 0.5831\n",
      "Epoch 4/20\n",
      "50000/50000 [==============================] - 44s 870us/step - loss: 1.1355 - acc: 0.5978\n",
      "Epoch 5/20\n",
      "50000/50000 [==============================] - 44s 877us/step - loss: 1.0922 - acc: 0.6166\n",
      "Epoch 6/20\n",
      "50000/50000 [==============================] - 44s 875us/step - loss: 1.0547 - acc: 0.6285\n",
      "Epoch 7/20\n",
      "50000/50000 [==============================] - 44s 876us/step - loss: 1.0178 - acc: 0.6407\n",
      "Epoch 8/20\n",
      "50000/50000 [==============================] - 44s 878us/step - loss: 0.9840 - acc: 0.6513\n",
      "Epoch 9/20\n",
      "50000/50000 [==============================] - 44s 878us/step - loss: 0.9498 - acc: 0.6641\n",
      "Epoch 10/20\n",
      "50000/50000 [==============================] - 44s 875us/step - loss: 0.9152 - acc: 0.6736\n",
      "Epoch 11/20\n",
      "50000/50000 [==============================] - 44s 874us/step - loss: 0.8887 - acc: 0.6822\n",
      "Epoch 12/20\n",
      "50000/50000 [==============================] - 44s 876us/step - loss: 0.8594 - acc: 0.6928\n",
      "Epoch 13/20\n",
      "50000/50000 [==============================] - 44s 873us/step - loss: 0.8282 - acc: 0.7042\n",
      "Epoch 14/20\n",
      "50000/50000 [==============================] - 44s 882us/step - loss: 0.8052 - acc: 0.7120\n",
      "Epoch 15/20\n",
      "50000/50000 [==============================] - 44s 876us/step - loss: 0.7790 - acc: 0.7193\n",
      "Epoch 16/20\n",
      "50000/50000 [==============================] - 44s 878us/step - loss: 0.7567 - acc: 0.7286\n",
      "Epoch 17/20\n",
      "50000/50000 [==============================] - 44s 874us/step - loss: 0.7256 - acc: 0.7371\n",
      "Epoch 18/20\n",
      "50000/50000 [==============================] - 44s 878us/step - loss: 0.7029 - acc: 0.7454\n",
      "Epoch 19/20\n",
      "50000/50000 [==============================] - 44s 881us/step - loss: 0.6828 - acc: 0.7537\n",
      "Epoch 20/20\n",
      "50000/50000 [==============================] - 44s 875us/step - loss: 0.6644 - acc: 0.7579\n"
     ]
    },
    {
     "data": {
      "text/plain": [
       "<keras.callbacks.History at 0x168e6c6e898>"
      ]
     },
     "execution_count": 4,
     "metadata": {},
     "output_type": "execute_result"
    }
   ],
   "source": [
    "model_vgg.compile('Adam', loss='categorical_crossentropy', metrics=['accuracy'])\n",
    "\n",
    "model_vgg.fit(x_train, y_train, batch_size=32, epochs=20,verbose=1,shuffle=True)"
   ]
  },
  {
   "cell_type": "code",
   "execution_count": 5,
   "metadata": {},
   "outputs": [],
   "source": [
    "def predict_label(predict_val):\n",
    "    max_label = []\n",
    "    for i in range(predict_val.shape[0]):\n",
    "        for j in range(predict_val.shape[1]):\n",
    "            if predict_val[i,j] == predict_val[i,:].max():\n",
    "                max_label.append(j)\n",
    "    return np.array(max_label)"
   ]
  },
  {
   "cell_type": "code",
   "execution_count": 7,
   "metadata": {},
   "outputs": [
    {
     "data": {
      "text/plain": [
       "0.61"
      ]
     },
     "execution_count": 7,
     "metadata": {},
     "output_type": "execute_result"
    }
   ],
   "source": [
    "from sklearn.metrics import accuracy_score\n",
    "predict = model_vgg.predict(x_test)\n",
    "predict = predict_label(predict)\n",
    "y_test = one_hot.inverse_transform(y_test)\n",
    "accuracy_score(y_test, predict)"
   ]
  }
 ],
 "metadata": {
  "kernelspec": {
   "display_name": "Python (tensorflow-gpu)",
   "language": "python",
   "name": "tf"
  },
  "language_info": {
   "codemirror_mode": {
    "name": "ipython",
    "version": 3
   },
   "file_extension": ".py",
   "mimetype": "text/x-python",
   "name": "python",
   "nbconvert_exporter": "python",
   "pygments_lexer": "ipython3",
   "version": "3.5.6"
  }
 },
 "nbformat": 4,
 "nbformat_minor": 2
}
