{
 "cells": [
  {
   "cell_type": "markdown",
   "metadata": {},
   "source": [
    "## Work\n",
    "1. 請比較使用不同層數以及不同 Dropout rate 對訓練的效果\n",
    "2. 將 optimizer 改成使用 Adam 並加上適當的 dropout rate 檢視結果"
   ]
  },
  {
   "cell_type": "code",
   "execution_count": 1,
   "metadata": {},
   "outputs": [
    {
     "name": "stderr",
     "output_type": "stream",
     "text": [
      "Using TensorFlow backend.\n"
     ]
    }
   ],
   "source": [
    "import os\n",
    "import keras\n",
    "import itertools\n",
    "# Disable GPU\n",
    "#os.environ[\"CUDA_VISIBLE_DEVICES\"] = \"\""
   ]
  },
  {
   "cell_type": "code",
   "execution_count": 2,
   "metadata": {},
   "outputs": [],
   "source": [
    "train, test = keras.datasets.cifar10.load_data()"
   ]
  },
  {
   "cell_type": "code",
   "execution_count": 3,
   "metadata": {},
   "outputs": [],
   "source": [
    "## 資料前處理\n",
    "def preproc_x(x, flatten=True):\n",
    "    x = x / 255.\n",
    "    if flatten:\n",
    "        x = x.reshape((len(x), -1))\n",
    "    return x\n",
    "\n",
    "def preproc_y(y, num_classes=10):\n",
    "    if y.shape[-1] == 1:\n",
    "        y = keras.utils.to_categorical(y, num_classes)\n",
    "    return y    "
   ]
  },
  {
   "cell_type": "code",
   "execution_count": 4,
   "metadata": {},
   "outputs": [],
   "source": [
    "x_train, y_train = train\n",
    "x_test, y_test = test\n",
    "\n",
    "# Preproc the inputs\n",
    "x_train = preproc_x(x_train)\n",
    "x_test = preproc_x(x_test)\n",
    "\n",
    "# Preprc the outputs\n",
    "y_train = preproc_y(y_train)\n",
    "y_test = preproc_y(y_test)"
   ]
  },
  {
   "cell_type": "code",
   "execution_count": 6,
   "metadata": {},
   "outputs": [],
   "source": [
    "from keras.layers import Dropout\n",
    "def build_mlp(input_shape, output_units=10, num_neurons=[512, 256, 128], drp_ratio=0.4):\n",
    "    input_layer = keras.layers.Input(input_shape)\n",
    "    \n",
    "    for i, n_units in enumerate(num_neurons):\n",
    "        if i == 0:\n",
    "            x = keras.layers.Dense(units=n_units, \n",
    "                                   activation=\"relu\", \n",
    "                                   name=\"hidden_layer\"+str(i+1))(input_layer)\n",
    "            x = Dropout(drp_ratio)(x)\n",
    "        else:\n",
    "            x = keras.layers.Dense(units=n_units, \n",
    "                                   activation=\"relu\", \n",
    "                                   name=\"hidden_layer\"+str(i+1))(x)\n",
    "            x = Dropout(drp_ratio)(x)\n",
    "    \n",
    "    out = keras.layers.Dense(units=output_units, activation=\"softmax\", name=\"output\")(x)\n",
    "    \n",
    "    model = keras.models.Model(inputs=[input_layer], outputs=[out])\n",
    "    return model"
   ]
  },
  {
   "cell_type": "code",
   "execution_count": 7,
   "metadata": {},
   "outputs": [],
   "source": [
    "LEARNING_RATE = 1e-3\n",
    "EPOCHS = 50\n",
    "BATCH_SIZE = 256\n",
    "MOMENTUM = 0.95\n",
    "Dropout_EXP = 0.25"
   ]
  },
  {
   "cell_type": "code",
   "execution_count": 8,
   "metadata": {
    "scrolled": true
   },
   "outputs": [
    {
     "name": "stdout",
     "output_type": "stream",
     "text": [
      "_________________________________________________________________\n",
      "Layer (type)                 Output Shape              Param #   \n",
      "=================================================================\n",
      "input_1 (InputLayer)         (None, 3072)              0         \n",
      "_________________________________________________________________\n",
      "hidden_layer1 (Dense)        (None, 512)               1573376   \n",
      "_________________________________________________________________\n",
      "dropout_1 (Dropout)          (None, 512)               0         \n",
      "_________________________________________________________________\n",
      "hidden_layer2 (Dense)        (None, 256)               131328    \n",
      "_________________________________________________________________\n",
      "dropout_2 (Dropout)          (None, 256)               0         \n",
      "_________________________________________________________________\n",
      "hidden_layer3 (Dense)        (None, 128)               32896     \n",
      "_________________________________________________________________\n",
      "dropout_3 (Dropout)          (None, 128)               0         \n",
      "_________________________________________________________________\n",
      "output (Dense)               (None, 10)                1290      \n",
      "=================================================================\n",
      "Total params: 1,738,890\n",
      "Trainable params: 1,738,890\n",
      "Non-trainable params: 0\n",
      "_________________________________________________________________\n",
      "Train on 50000 samples, validate on 10000 samples\n",
      "Epoch 1/50\n",
      "50000/50000 [==============================] - 4s 85us/step - loss: 2.1743 - acc: 0.1889 - val_loss: 1.9843 - val_acc: 0.2939\n",
      "Epoch 2/50\n",
      "50000/50000 [==============================] - 3s 56us/step - loss: 1.9927 - acc: 0.2702 - val_loss: 1.8737 - val_acc: 0.3391\n",
      "Epoch 3/50\n",
      "50000/50000 [==============================] - 3s 57us/step - loss: 1.9128 - acc: 0.3085 - val_loss: 1.8149 - val_acc: 0.3689\n",
      "Epoch 4/50\n",
      "50000/50000 [==============================] - 3s 57us/step - loss: 1.8572 - acc: 0.3324 - val_loss: 1.7464 - val_acc: 0.3877\n",
      "Epoch 5/50\n",
      "50000/50000 [==============================] - 3s 56us/step - loss: 1.8119 - acc: 0.3498 - val_loss: 1.7127 - val_acc: 0.4039\n",
      "Epoch 6/50\n",
      "50000/50000 [==============================] - 3s 57us/step - loss: 1.7767 - acc: 0.3658 - val_loss: 1.6691 - val_acc: 0.4104\n",
      "Epoch 7/50\n",
      "50000/50000 [==============================] - 3s 56us/step - loss: 1.7449 - acc: 0.3747 - val_loss: 1.6503 - val_acc: 0.4222\n",
      "Epoch 8/50\n",
      "50000/50000 [==============================] - 3s 56us/step - loss: 1.7210 - acc: 0.3879 - val_loss: 1.6218 - val_acc: 0.4301\n",
      "Epoch 9/50\n",
      "50000/50000 [==============================] - 3s 58us/step - loss: 1.6935 - acc: 0.3972 - val_loss: 1.5964 - val_acc: 0.4378\n",
      "Epoch 10/50\n",
      "50000/50000 [==============================] - 3s 57us/step - loss: 1.6715 - acc: 0.4046 - val_loss: 1.5772 - val_acc: 0.4450\n",
      "Epoch 11/50\n",
      "50000/50000 [==============================] - 3s 57us/step - loss: 1.6543 - acc: 0.4117 - val_loss: 1.5546 - val_acc: 0.4492\n",
      "Epoch 12/50\n",
      "50000/50000 [==============================] - 3s 56us/step - loss: 1.6377 - acc: 0.4167 - val_loss: 1.5396 - val_acc: 0.4576\n",
      "Epoch 13/50\n",
      "50000/50000 [==============================] - 3s 57us/step - loss: 1.6175 - acc: 0.4259 - val_loss: 1.5245 - val_acc: 0.4624\n",
      "Epoch 14/50\n",
      "50000/50000 [==============================] - 3s 57us/step - loss: 1.6004 - acc: 0.4300 - val_loss: 1.5131 - val_acc: 0.4637\n",
      "Epoch 15/50\n",
      "50000/50000 [==============================] - 3s 57us/step - loss: 1.5898 - acc: 0.4357 - val_loss: 1.4938 - val_acc: 0.4692\n",
      "Epoch 16/50\n",
      "50000/50000 [==============================] - 3s 57us/step - loss: 1.5751 - acc: 0.4384 - val_loss: 1.4865 - val_acc: 0.4738\n",
      "Epoch 17/50\n",
      "50000/50000 [==============================] - 3s 57us/step - loss: 1.5609 - acc: 0.4450 - val_loss: 1.4846 - val_acc: 0.4746\n",
      "Epoch 18/50\n",
      "50000/50000 [==============================] - 3s 57us/step - loss: 1.5452 - acc: 0.4519 - val_loss: 1.4673 - val_acc: 0.4798\n",
      "Epoch 19/50\n",
      "50000/50000 [==============================] - 3s 56us/step - loss: 1.5336 - acc: 0.4542 - val_loss: 1.4587 - val_acc: 0.4782\n",
      "Epoch 20/50\n",
      "50000/50000 [==============================] - 3s 56us/step - loss: 1.5194 - acc: 0.4607 - val_loss: 1.4450 - val_acc: 0.4914\n",
      "Epoch 21/50\n",
      "50000/50000 [==============================] - 3s 56us/step - loss: 1.5121 - acc: 0.4624 - val_loss: 1.4501 - val_acc: 0.4863\n",
      "Epoch 22/50\n",
      "50000/50000 [==============================] - 3s 56us/step - loss: 1.5029 - acc: 0.4658 - val_loss: 1.4365 - val_acc: 0.4874\n",
      "Epoch 23/50\n",
      "50000/50000 [==============================] - 3s 56us/step - loss: 1.4932 - acc: 0.4692 - val_loss: 1.4291 - val_acc: 0.4915\n",
      "Epoch 24/50\n",
      "50000/50000 [==============================] - 3s 56us/step - loss: 1.4821 - acc: 0.4723 - val_loss: 1.4202 - val_acc: 0.4953\n",
      "Epoch 25/50\n",
      "50000/50000 [==============================] - 3s 56us/step - loss: 1.4698 - acc: 0.4778 - val_loss: 1.4309 - val_acc: 0.4895\n",
      "Epoch 26/50\n",
      "50000/50000 [==============================] - 3s 57us/step - loss: 1.4641 - acc: 0.4773 - val_loss: 1.4012 - val_acc: 0.5013\n",
      "Epoch 27/50\n",
      "50000/50000 [==============================] - 3s 57us/step - loss: 1.4531 - acc: 0.4818 - val_loss: 1.3976 - val_acc: 0.5013\n",
      "Epoch 28/50\n",
      "50000/50000 [==============================] - 3s 57us/step - loss: 1.4457 - acc: 0.4846 - val_loss: 1.4211 - val_acc: 0.4977\n",
      "Epoch 29/50\n",
      "50000/50000 [==============================] - 3s 57us/step - loss: 1.4350 - acc: 0.4907 - val_loss: 1.3910 - val_acc: 0.4990\n",
      "Epoch 30/50\n",
      "50000/50000 [==============================] - 3s 57us/step - loss: 1.4297 - acc: 0.4919 - val_loss: 1.3804 - val_acc: 0.5077\n",
      "Epoch 31/50\n",
      "50000/50000 [==============================] - 3s 58us/step - loss: 1.4169 - acc: 0.4940 - val_loss: 1.3759 - val_acc: 0.5137\n",
      "Epoch 32/50\n",
      "50000/50000 [==============================] - 3s 57us/step - loss: 1.4099 - acc: 0.4968 - val_loss: 1.3661 - val_acc: 0.5133\n",
      "Epoch 33/50\n",
      "50000/50000 [==============================] - 3s 56us/step - loss: 1.4003 - acc: 0.5006 - val_loss: 1.3711 - val_acc: 0.5089\n",
      "Epoch 34/50\n",
      "50000/50000 [==============================] - 3s 56us/step - loss: 1.3944 - acc: 0.5026 - val_loss: 1.3641 - val_acc: 0.5136\n",
      "Epoch 35/50\n",
      "50000/50000 [==============================] - 3s 57us/step - loss: 1.3884 - acc: 0.5043 - val_loss: 1.3582 - val_acc: 0.5153\n",
      "Epoch 36/50\n",
      "50000/50000 [==============================] - 3s 57us/step - loss: 1.3803 - acc: 0.5085 - val_loss: 1.3571 - val_acc: 0.5176\n",
      "Epoch 37/50\n",
      "50000/50000 [==============================] - 3s 57us/step - loss: 1.3690 - acc: 0.5116 - val_loss: 1.3548 - val_acc: 0.5168\n",
      "Epoch 38/50\n",
      "50000/50000 [==============================] - 3s 56us/step - loss: 1.3661 - acc: 0.5124 - val_loss: 1.3462 - val_acc: 0.5211\n",
      "Epoch 39/50\n",
      "50000/50000 [==============================] - 3s 58us/step - loss: 1.3515 - acc: 0.5168 - val_loss: 1.3474 - val_acc: 0.5196\n",
      "Epoch 40/50\n",
      "50000/50000 [==============================] - 3s 57us/step - loss: 1.3524 - acc: 0.5161 - val_loss: 1.3327 - val_acc: 0.5244\n",
      "Epoch 41/50\n",
      "50000/50000 [==============================] - 3s 57us/step - loss: 1.3448 - acc: 0.5226 - val_loss: 1.3404 - val_acc: 0.5286\n",
      "Epoch 42/50\n",
      "50000/50000 [==============================] - 3s 56us/step - loss: 1.3364 - acc: 0.5215 - val_loss: 1.3296 - val_acc: 0.5232\n",
      "Epoch 43/50\n",
      "50000/50000 [==============================] - 3s 56us/step - loss: 1.3219 - acc: 0.5299 - val_loss: 1.3221 - val_acc: 0.5284\n",
      "Epoch 44/50\n",
      "50000/50000 [==============================] - 3s 56us/step - loss: 1.3245 - acc: 0.5281 - val_loss: 1.3263 - val_acc: 0.5251\n",
      "Epoch 45/50\n",
      "50000/50000 [==============================] - 3s 56us/step - loss: 1.3141 - acc: 0.5327 - val_loss: 1.3170 - val_acc: 0.5305\n",
      "Epoch 46/50\n",
      "50000/50000 [==============================] - 3s 57us/step - loss: 1.3092 - acc: 0.5341 - val_loss: 1.3331 - val_acc: 0.5227\n",
      "Epoch 47/50\n",
      "50000/50000 [==============================] - 3s 56us/step - loss: 1.3059 - acc: 0.5351 - val_loss: 1.3279 - val_acc: 0.5250\n",
      "Epoch 48/50\n",
      "50000/50000 [==============================] - 3s 56us/step - loss: 1.3025 - acc: 0.5346 - val_loss: 1.3083 - val_acc: 0.5350\n",
      "Epoch 49/50\n",
      "50000/50000 [==============================] - 3s 56us/step - loss: 1.2878 - acc: 0.5385 - val_loss: 1.3157 - val_acc: 0.5317\n"
     ]
    },
    {
     "name": "stdout",
     "output_type": "stream",
     "text": [
      "Epoch 50/50\n",
      "50000/50000 [==============================] - 3s 57us/step - loss: 1.2877 - acc: 0.5394 - val_loss: 1.3139 - val_acc: 0.5330\n"
     ]
    }
   ],
   "source": [
    "model = build_mlp(input_shape=x_train.shape[1:], drp_ratio=Dropout_EXP)\n",
    "model.summary()\n",
    "optimizer = keras.optimizers.SGD(lr=LEARNING_RATE, nesterov=True, momentum=MOMENTUM)\n",
    "model.compile(loss=\"categorical_crossentropy\", metrics=[\"accuracy\"], optimizer=optimizer)\n",
    "\n",
    "model.fit(x_train, y_train, \n",
    "          epochs=EPOCHS, \n",
    "          batch_size=BATCH_SIZE, \n",
    "          validation_data=(x_test, y_test), \n",
    "          shuffle=True)\n",
    "\n",
    "# Collect results\n",
    "train_loss = model.history.history[\"loss\"]\n",
    "valid_loss = model.history.history[\"val_loss\"]\n",
    "train_acc = model.history.history[\"acc\"]\n",
    "valid_acc = model.history.history[\"val_acc\"]"
   ]
  },
  {
   "cell_type": "code",
   "execution_count": 9,
   "metadata": {},
   "outputs": [
    {
     "data": {
      "image/png": "[encoded data removed]",
      "text/plain": [
       "<Figure size 432x288 with 1 Axes>"
      ]
     },
     "metadata": {
      "needs_background": "light"
     },
     "output_type": "display_data"
    },
    {
     "data": {
      "image/png": "[encoded data removed]",
      "text/plain": [
       "<Figure size 432x288 with 1 Axes>"
      ]
     },
     "metadata": {
      "needs_background": "light"
     },
     "output_type": "display_data"
    }
   ],
   "source": [
    "import matplotlib.pyplot as plt\n",
    "%matplotlib inline\n",
    "\n",
    "plt.plot(range(len(train_loss)), train_loss, label=\"train loss\")\n",
    "plt.plot(range(len(valid_loss)), valid_loss, label=\"valid loss\")\n",
    "plt.legend()\n",
    "plt.title(\"Loss\")\n",
    "plt.show()\n",
    "\n",
    "plt.plot(range(len(train_acc)), train_acc, label=\"train accuracy\")\n",
    "plt.plot(range(len(valid_acc)), valid_acc, label=\"valid accuracy\")\n",
    "plt.legend()\n",
    "plt.title(\"Accuracy\")\n",
    "plt.show()"
   ]
  }
 ],
 "metadata": {
  "kernelspec": {
   "display_name": "Python 3",
   "language": "python",
   "name": "python3"
  },
  "language_info": {
   "codemirror_mode": {
    "name": "ipython",
    "version": 3
   },
   "file_extension": ".py",
   "mimetype": "text/x-python",
   "name": "python",
   "nbconvert_exporter": "python",
   "pygments_lexer": "ipython3",
   "version": "3.5.6"
  }
 },
 "nbformat": 4,
 "nbformat_minor": 2
}
