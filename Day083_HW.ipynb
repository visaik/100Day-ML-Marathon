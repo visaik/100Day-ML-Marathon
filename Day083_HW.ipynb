{
 "cells": [
  {
   "cell_type": "markdown",
   "metadata": {},
   "source": [
    "## Work\n",
    "1. 試比較有 BN 在 Batch_size = 2, 16, 32, 128, 256 下的差異\n",
    "2. 請嘗試將 BN 放在 Activation 之前，並比較訓練結果\n",
    "3. 請於 BN 放在 Input Layer 後，並比較結果"
   ]
  },
  {
   "cell_type": "code",
   "execution_count": 1,
   "metadata": {},
   "outputs": [
    {
     "name": "stderr",
     "output_type": "stream",
     "text": [
      "Using TensorFlow backend.\n"
     ]
    }
   ],
   "source": [
    "import os\n",
    "import keras\n",
    "import itertools\n",
    "# Disable GPU\n",
    "#os.environ[\"CUDA_VISIBLE_DEVICES\"] = \"\""
   ]
  },
  {
   "cell_type": "code",
   "execution_count": 2,
   "metadata": {},
   "outputs": [],
   "source": [
    "train, test = keras.datasets.cifar10.load_data()"
   ]
  },
  {
   "cell_type": "code",
   "execution_count": 3,
   "metadata": {},
   "outputs": [],
   "source": [
    "## 資料前處理\n",
    "def preproc_x(x, flatten=True):\n",
    "    x = x / 255.\n",
    "    if flatten:\n",
    "        x = x.reshape((len(x), -1))\n",
    "    return x\n",
    "\n",
    "def preproc_y(y, num_classes=10):\n",
    "    if y.shape[-1] == 1:\n",
    "        y = keras.utils.to_categorical(y, num_classes)\n",
    "    return y    "
   ]
  },
  {
   "cell_type": "code",
   "execution_count": 4,
   "metadata": {},
   "outputs": [],
   "source": [
    "x_train, y_train = train\n",
    "x_test, y_test = test\n",
    "\n",
    "# Preproc the inputs\n",
    "x_train = preproc_x(x_train)\n",
    "x_test = preproc_x(x_test)\n",
    "\n",
    "# Preprc the outputs\n",
    "y_train = preproc_y(y_train)\n",
    "y_test = preproc_y(y_test)"
   ]
  },
  {
   "cell_type": "code",
   "execution_count": 7,
   "metadata": {},
   "outputs": [],
   "source": [
    "from keras.layers import BatchNormalization\n",
    "\n",
    "\n",
    "def build_mlp(input_shape, output_units=10, num_neurons=[512, 256, 128]):\n",
    "    input_layer = keras.layers.Input(input_shape)\n",
    "    \n",
    "    for i, n_units in enumerate(num_neurons):\n",
    "        if i == 0:\n",
    "            x = keras.layers.Dense(units=n_units, \n",
    "                                   activation=\"relu\", \n",
    "                                   name=\"hidden_layer\"+str(i+1))(input_layer)\n",
    "            x = BatchNormalization()(x)\n",
    "        else:\n",
    "            x = keras.layers.Dense(units=n_units, \n",
    "                                   activation=\"relu\", \n",
    "                                   name=\"hidden_layer\"+str(i+1))(x)\n",
    "            x = BatchNormalization()(x)\n",
    "    \n",
    "    out = keras.layers.Dense(units=output_units, activation=\"softmax\", name=\"output\")(x)\n",
    "    \n",
    "    model = keras.models.Model(inputs=[input_layer], outputs=[out])\n",
    "    return model"
   ]
  },
  {
   "cell_type": "code",
   "execution_count": 5,
   "metadata": {},
   "outputs": [],
   "source": [
    "LEARNING_RATE = 1e-3\n",
    "EPOCHS = 50\n",
    "BATCH_SIZE = 1024\n",
    "MOMENTUM = 0.95"
   ]
  },
  {
   "cell_type": "code",
   "execution_count": null,
   "metadata": {
    "scrolled": true
   },
   "outputs": [
    {
     "name": "stdout",
     "output_type": "stream",
     "text": [
      "_________________________________________________________________\n",
      "Layer (type)                 Output Shape              Param #   \n",
      "=================================================================\n",
      "input_1 (InputLayer)         (None, 3072)              0         \n",
      "_________________________________________________________________\n",
      "hidden_layer1 (Dense)        (None, 512)               1573376   \n",
      "_________________________________________________________________\n",
      "batch_normalization_1 (Batch (None, 512)               2048      \n",
      "_________________________________________________________________\n",
      "hidden_layer2 (Dense)        (None, 256)               131328    \n",
      "_________________________________________________________________\n",
      "batch_normalization_2 (Batch (None, 256)               1024      \n",
      "_________________________________________________________________\n",
      "hidden_layer3 (Dense)        (None, 128)               32896     \n",
      "_________________________________________________________________\n",
      "batch_normalization_3 (Batch (None, 128)               512       \n",
      "_________________________________________________________________\n",
      "output (Dense)               (None, 10)                1290      \n",
      "=================================================================\n",
      "Total params: 1,742,474\n",
      "Trainable params: 1,740,682\n",
      "Non-trainable params: 1,792\n",
      "_________________________________________________________________\n",
      "Train on 50000 samples, validate on 10000 samples\n",
      "Epoch 1/50\n",
      "50000/50000 [==============================] - 4s 75us/step - loss: 2.2283 - acc: 0.2618 - val_loss: 2.0587 - val_acc: 0.3326\n",
      "Epoch 2/50\n",
      "50000/50000 [==============================] - 2s 41us/step - loss: 1.7482 - acc: 0.3876 - val_loss: 1.8040 - val_acc: 0.3818\n",
      "Epoch 3/50\n",
      "50000/50000 [==============================] - 2s 41us/step - loss: 1.6199 - acc: 0.4305 - val_loss: 1.7029 - val_acc: 0.4083\n",
      "Epoch 4/50\n",
      "50000/50000 [==============================] - 2s 43us/step - loss: 1.5464 - acc: 0.4572 - val_loss: 1.6423 - val_acc: 0.4242\n",
      "Epoch 5/50\n",
      "50000/50000 [==============================] - 2s 41us/step - loss: 1.4896 - acc: 0.4780 - val_loss: 1.5910 - val_acc: 0.4435\n",
      "Epoch 6/50\n",
      "50000/50000 [==============================] - 2s 41us/step - loss: 1.4428 - acc: 0.4956 - val_loss: 1.5783 - val_acc: 0.4476\n",
      "Epoch 7/50\n",
      "50000/50000 [==============================] - 2s 40us/step - loss: 1.4054 - acc: 0.5093 - val_loss: 1.5646 - val_acc: 0.4575\n",
      "Epoch 8/50\n",
      "50000/50000 [==============================] - 2s 41us/step - loss: 1.3703 - acc: 0.5199 - val_loss: 1.5646 - val_acc: 0.4498\n",
      "Epoch 9/50\n",
      "50000/50000 [==============================] - 2s 40us/step - loss: 1.3367 - acc: 0.5316 - val_loss: 1.5224 - val_acc: 0.4656\n",
      "Epoch 10/50\n",
      "50000/50000 [==============================] - 2s 41us/step - loss: 1.3054 - acc: 0.5445 - val_loss: 1.5092 - val_acc: 0.4666\n",
      "Epoch 11/50\n",
      "50000/50000 [==============================] - 2s 40us/step - loss: 1.2797 - acc: 0.5548 - val_loss: 1.5146 - val_acc: 0.4734\n",
      "Epoch 12/50\n",
      "50000/50000 [==============================] - 2s 41us/step - loss: 1.2505 - acc: 0.5655 - val_loss: 1.4907 - val_acc: 0.4754\n",
      "Epoch 13/50\n",
      "50000/50000 [==============================] - 2s 40us/step - loss: 1.2239 - acc: 0.5752 - val_loss: 1.4922 - val_acc: 0.4741\n",
      "Epoch 14/50\n",
      "50000/50000 [==============================] - 2s 41us/step - loss: 1.1973 - acc: 0.5859 - val_loss: 1.4855 - val_acc: 0.4762\n",
      "Epoch 15/50\n",
      "50000/50000 [==============================] - 2s 40us/step - loss: 1.1726 - acc: 0.5949 - val_loss: 1.4711 - val_acc: 0.4858\n",
      "Epoch 16/50\n",
      "50000/50000 [==============================] - 2s 41us/step - loss: 1.1492 - acc: 0.6033 - val_loss: 1.4750 - val_acc: 0.4821\n",
      "Epoch 17/50\n",
      "50000/50000 [==============================] - 2s 41us/step - loss: 1.1274 - acc: 0.6139 - val_loss: 1.4735 - val_acc: 0.4833\n",
      "Epoch 18/50\n",
      "50000/50000 [==============================] - 2s 40us/step - loss: 1.1026 - acc: 0.6208 - val_loss: 1.4646 - val_acc: 0.4868\n",
      "Epoch 19/50\n",
      "50000/50000 [==============================] - 2s 40us/step - loss: 1.0786 - acc: 0.6323 - val_loss: 1.4965 - val_acc: 0.4839\n",
      "Epoch 20/50\n",
      "50000/50000 [==============================] - 2s 40us/step - loss: 1.0589 - acc: 0.6396 - val_loss: 1.4688 - val_acc: 0.4884\n",
      "Epoch 21/50\n",
      "50000/50000 [==============================] - 2s 41us/step - loss: 1.0368 - acc: 0.6473 - val_loss: 1.4705 - val_acc: 0.4873\n",
      "Epoch 22/50\n",
      "50000/50000 [==============================] - 2s 41us/step - loss: 1.0158 - acc: 0.6560 - val_loss: 1.4848 - val_acc: 0.4894\n",
      "Epoch 23/50\n",
      "50000/50000 [==============================] - 2s 41us/step - loss: 0.9928 - acc: 0.6643 - val_loss: 1.4758 - val_acc: 0.4893\n",
      "Epoch 24/50\n",
      "50000/50000 [==============================] - 2s 41us/step - loss: 0.9720 - acc: 0.6724 - val_loss: 1.4728 - val_acc: 0.4917\n",
      "Epoch 25/50\n",
      "50000/50000 [==============================] - 2s 40us/step - loss: 0.9503 - acc: 0.6835 - val_loss: 1.4669 - val_acc: 0.5008\n",
      "Epoch 26/50\n",
      "50000/50000 [==============================] - 2s 41us/step - loss: 0.9297 - acc: 0.6908 - val_loss: 1.4924 - val_acc: 0.4886\n",
      "Epoch 27/50\n",
      "50000/50000 [==============================] - 2s 40us/step - loss: 0.9086 - acc: 0.6981 - val_loss: 1.4907 - val_acc: 0.4976\n",
      "Epoch 28/50\n",
      "50000/50000 [==============================] - 2s 41us/step - loss: 0.8909 - acc: 0.7053 - val_loss: 1.4807 - val_acc: 0.4933\n",
      "Epoch 29/50\n",
      "50000/50000 [==============================] - 2s 41us/step - loss: 0.8699 - acc: 0.7139 - val_loss: 1.5223 - val_acc: 0.4909\n",
      "Epoch 30/50\n",
      "50000/50000 [==============================] - 2s 41us/step - loss: 0.8490 - acc: 0.7221 - val_loss: 1.4995 - val_acc: 0.4942\n",
      "Epoch 31/50\n",
      "50000/50000 [==============================] - 2s 41us/step - loss: 0.8288 - acc: 0.7287 - val_loss: 1.5178 - val_acc: 0.4935\n",
      "Epoch 32/50\n",
      "50000/50000 [==============================] - 2s 40us/step - loss: 0.8083 - acc: 0.7377 - val_loss: 1.4997 - val_acc: 0.4955\n",
      "Epoch 33/50\n",
      "50000/50000 [==============================] - 2s 41us/step - loss: 0.7908 - acc: 0.7445 - val_loss: 1.5206 - val_acc: 0.4881\n",
      "Epoch 34/50\n",
      "50000/50000 [==============================] - 2s 40us/step - loss: 0.7712 - acc: 0.7519 - val_loss: 1.5237 - val_acc: 0.4940\n",
      "Epoch 35/50\n",
      "50000/50000 [==============================] - 2s 40us/step - loss: 0.7518 - acc: 0.7609 - val_loss: 1.5295 - val_acc: 0.4948\n",
      "Epoch 36/50\n",
      "50000/50000 [==============================] - 2s 40us/step - loss: 0.7327 - acc: 0.7684 - val_loss: 1.5307 - val_acc: 0.4955\n",
      "Epoch 37/50\n",
      "50000/50000 [==============================] - 2s 40us/step - loss: 0.7150 - acc: 0.7752 - val_loss: 1.5565 - val_acc: 0.4938\n",
      "Epoch 38/50\n",
      "50000/50000 [==============================] - 2s 40us/step - loss: 0.6956 - acc: 0.7828 - val_loss: 1.5520 - val_acc: 0.4941\n",
      "Epoch 39/50\n",
      "50000/50000 [==============================] - 2s 40us/step - loss: 0.6758 - acc: 0.7901 - val_loss: 1.5762 - val_acc: 0.4879\n",
      "Epoch 40/50\n",
      "50000/50000 [==============================] - 2s 40us/step - loss: 0.6598 - acc: 0.7972 - val_loss: 1.5808 - val_acc: 0.4913\n",
      "Epoch 41/50\n",
      "50000/50000 [==============================] - 2s 40us/step - loss: 0.6401 - acc: 0.8035 - val_loss: 1.5972 - val_acc: 0.4880\n",
      "Epoch 42/50\n",
      "50000/50000 [==============================] - 2s 40us/step - loss: 0.6242 - acc: 0.8105 - val_loss: 1.5945 - val_acc: 0.4922\n",
      "Epoch 43/50\n",
      "50000/50000 [==============================] - 2s 40us/step - loss: 0.6041 - acc: 0.8181 - val_loss: 1.6084 - val_acc: 0.4923\n",
      "Epoch 44/50\n",
      "50000/50000 [==============================] - 2s 40us/step - loss: 0.5882 - acc: 0.8256 - val_loss: 1.6138 - val_acc: 0.4875\n",
      "Epoch 45/50\n",
      "50000/50000 [==============================] - 2s 40us/step - loss: 0.5700 - acc: 0.8315 - val_loss: 1.6167 - val_acc: 0.4905\n",
      "Epoch 46/50\n",
      "25600/50000 [==============>...............] - ETA: 0s - loss: 0.5514 - acc: 0.8396"
     ]
    }
   ],
   "source": [
    "model = build_mlp(input_shape=x_train.shape[1:])\n",
    "model.summary()\n",
    "optimizer = keras.optimizers.SGD(lr=LEARNING_RATE, nesterov=True, momentum=MOMENTUM)\n",
    "model.compile(loss=\"categorical_crossentropy\", metrics=[\"accuracy\"], optimizer=optimizer)\n",
    "\n",
    "model.fit(x_train, y_train, \n",
    "          epochs=EPOCHS, \n",
    "          batch_size=BATCH_SIZE, \n",
    "          validation_data=(x_test, y_test), \n",
    "          shuffle=True)\n",
    "\n",
    "# Collect results\n",
    "train_loss = model.history.history[\"loss\"]\n",
    "valid_loss = model.history.history[\"val_loss\"]\n",
    "train_acc = model.history.history[\"acc\"]\n",
    "valid_acc = model.history.history[\"val_acc\"]"
   ]
  },
  {
   "cell_type": "code",
   "execution_count": null,
   "metadata": {},
   "outputs": [],
   "source": [
    "import matplotlib.pyplot as plt\n",
    "%matplotlib inline\n",
    "\n",
    "plt.plot(range(len(train_loss)), train_loss, label=\"train loss\")\n",
    "plt.plot(range(len(valid_loss)), valid_loss, label=\"valid loss\")\n",
    "plt.legend()\n",
    "plt.title(\"Loss\")\n",
    "plt.show()\n",
    "\n",
    "plt.plot(range(len(train_acc)), train_acc, label=\"train accuracy\")\n",
    "plt.plot(range(len(valid_acc)), valid_acc, label=\"valid accuracy\")\n",
    "plt.legend()\n",
    "plt.title(\"Accuracy\")\n",
    "plt.show()"
   ]
  }
 ],
 "metadata": {
  "kernelspec": {
   "display_name": "Python 3",
   "language": "python",
   "name": "python3"
  },
  "language_info": {
   "codemirror_mode": {
    "name": "ipython",
    "version": 3
   },
   "file_extension": ".py",
   "mimetype": "text/x-python",
   "name": "python",
   "nbconvert_exporter": "python",
   "pygments_lexer": "ipython3",
   "version": "3.5.6"
  }
 },
 "nbformat": 4,
 "nbformat_minor": 2
}
