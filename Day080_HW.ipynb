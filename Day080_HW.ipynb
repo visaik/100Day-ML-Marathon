{
 "cells": [
  {
   "cell_type": "markdown",
   "metadata": {},
   "source": [
    "# 請結合前面的知識與程式碼，比較不同的 optimizer 與 learning rate 組合對訓練的結果與影響\n",
    "### 常見的 optimizer 包含\n",
    "* SGD\n",
    "* RMSprop\n",
    "* AdaGrad\n",
    "* Adam"
   ]
  },
  {
   "cell_type": "code",
   "execution_count": 1,
   "metadata": {},
   "outputs": [
    {
     "name": "stderr",
     "output_type": "stream",
     "text": [
      "Using TensorFlow backend.\n"
     ]
    }
   ],
   "source": [
    "import os\n",
    "import keras\n",
    "\n",
    "# Disable GPU\n",
    "#os.environ[\"CUDA_VISIBLE_DEVICES\"] = \"\""
   ]
  },
  {
   "cell_type": "code",
   "execution_count": 2,
   "metadata": {},
   "outputs": [],
   "source": [
    "train, test = keras.datasets.cifar10.load_data()"
   ]
  },
  {
   "cell_type": "code",
   "execution_count": 3,
   "metadata": {},
   "outputs": [],
   "source": [
    "## 資料前處理\n",
    "def preproc_x(x, flatten=True):\n",
    "    x = x / 255.\n",
    "    if flatten:\n",
    "        x = x.reshape((len(x), -1))\n",
    "    return x\n",
    "\n",
    "def preproc_y(y, num_classes=10):\n",
    "    if y.shape[-1] == 1:\n",
    "        y = keras.utils.to_categorical(y, num_classes)\n",
    "    return y    "
   ]
  },
  {
   "cell_type": "code",
   "execution_count": 4,
   "metadata": {},
   "outputs": [],
   "source": [
    "x_train, y_train = train\n",
    "x_test, y_test = test\n",
    "\n",
    "# Preproc the inputs\n",
    "x_train = preproc_x(x_train)\n",
    "x_test = preproc_x(x_test)\n",
    "\n",
    "# Preprc the outputs\n",
    "y_train = preproc_y(y_train)\n",
    "y_test = preproc_y(y_test)"
   ]
  },
  {
   "cell_type": "code",
   "execution_count": 5,
   "metadata": {},
   "outputs": [],
   "source": [
    "def build_mlp(input_shape, output_units=10, num_neurons=[512, 256, 128]):\n",
    "    input_layer = keras.layers.Input(input_shape)\n",
    "    \n",
    "    for i, n_units in enumerate(num_neurons):\n",
    "        if i == 0:\n",
    "            x = keras.layers.Dense(units=n_units, activation=\"relu\", name=\"hidden_layer\"+str(i+1))(input_layer)\n",
    "        else:\n",
    "            x = keras.layers.Dense(units=n_units, activation=\"relu\", name=\"hidden_layer\"+str(i+1))(x)\n",
    "    \n",
    "    out = keras.layers.Dense(units=output_units, activation=\"softmax\", name=\"output\")(x)\n",
    "    \n",
    "    model = keras.models.Model(inputs=[input_layer], outputs=[out])\n",
    "    return model"
   ]
  },
  {
   "cell_type": "code",
   "execution_count": 7,
   "metadata": {},
   "outputs": [],
   "source": [
    "## 超參數設定\n",
    "\"\"\"\n",
    "Set your required experiment parameters\n",
    "\"\"\"\n",
    "LEARNING_RATE = 1e-3\n",
    "EPOCHS = 50\n",
    "BATCH_SIZE = 256\n",
    "MOMENTUM = 0.95\n"
   ]
  },
  {
   "cell_type": "code",
   "execution_count": 8,
   "metadata": {
    "scrolled": true
   },
   "outputs": [
    {
     "name": "stdout",
     "output_type": "stream",
     "text": [
      "_________________________________________________________________\n",
      "Layer (type)                 Output Shape              Param #   \n",
      "=================================================================\n",
      "input_1 (InputLayer)         (None, 3072)              0         \n",
      "_________________________________________________________________\n",
      "hidden_layer1 (Dense)        (None, 512)               1573376   \n",
      "_________________________________________________________________\n",
      "hidden_layer2 (Dense)        (None, 256)               131328    \n",
      "_________________________________________________________________\n",
      "hidden_layer3 (Dense)        (None, 128)               32896     \n",
      "_________________________________________________________________\n",
      "output (Dense)               (None, 10)                1290      \n",
      "=================================================================\n",
      "Total params: 1,738,890\n",
      "Trainable params: 1,738,890\n",
      "Non-trainable params: 0\n",
      "_________________________________________________________________\n",
      "Train on 50000 samples, validate on 10000 samples\n",
      "Epoch 1/50\n",
      "50000/50000 [==============================] - 4s 81us/step - loss: 2.0285 - acc: 0.2795 - val_loss: 1.8641 - val_acc: 0.3411\n",
      "Epoch 2/50\n",
      "50000/50000 [==============================] - 3s 57us/step - loss: 1.8012 - acc: 0.3682 - val_loss: 1.7609 - val_acc: 0.3829\n",
      "Epoch 3/50\n",
      "50000/50000 [==============================] - 3s 56us/step - loss: 1.7202 - acc: 0.3984 - val_loss: 1.6984 - val_acc: 0.4044\n",
      "Epoch 4/50\n",
      "50000/50000 [==============================] - 3s 56us/step - loss: 1.6648 - acc: 0.4174 - val_loss: 1.6483 - val_acc: 0.4289\n",
      "Epoch 5/50\n",
      "50000/50000 [==============================] - 3s 54us/step - loss: 1.6167 - acc: 0.4353 - val_loss: 1.6081 - val_acc: 0.4352\n",
      "Epoch 6/50\n",
      "50000/50000 [==============================] - 3s 56us/step - loss: 1.5763 - acc: 0.4475 - val_loss: 1.5721 - val_acc: 0.4533\n",
      "Epoch 7/50\n",
      "50000/50000 [==============================] - 3s 56us/step - loss: 1.5415 - acc: 0.4591 - val_loss: 1.5730 - val_acc: 0.4446\n",
      "Epoch 8/50\n",
      "50000/50000 [==============================] - 3s 56us/step - loss: 1.5088 - acc: 0.4714 - val_loss: 1.5219 - val_acc: 0.4567\n",
      "Epoch 9/50\n",
      "50000/50000 [==============================] - 3s 56us/step - loss: 1.4808 - acc: 0.4800 - val_loss: 1.4942 - val_acc: 0.4682\n",
      "Epoch 10/50\n",
      "50000/50000 [==============================] - 3s 56us/step - loss: 1.4533 - acc: 0.4896 - val_loss: 1.4766 - val_acc: 0.4795\n",
      "Epoch 11/50\n",
      "50000/50000 [==============================] - 3s 56us/step - loss: 1.4300 - acc: 0.4966 - val_loss: 1.4721 - val_acc: 0.4765\n",
      "Epoch 12/50\n",
      "50000/50000 [==============================] - 3s 55us/step - loss: 1.4065 - acc: 0.5049 - val_loss: 1.4532 - val_acc: 0.4822\n",
      "Epoch 13/50\n",
      "50000/50000 [==============================] - 3s 56us/step - loss: 1.3848 - acc: 0.5117 - val_loss: 1.4684 - val_acc: 0.4731\n",
      "Epoch 14/50\n",
      "50000/50000 [==============================] - 3s 56us/step - loss: 1.3668 - acc: 0.5192 - val_loss: 1.4421 - val_acc: 0.4841\n",
      "Epoch 15/50\n",
      "50000/50000 [==============================] - 3s 56us/step - loss: 1.3461 - acc: 0.5260 - val_loss: 1.4102 - val_acc: 0.4955\n",
      "Epoch 16/50\n",
      "50000/50000 [==============================] - 3s 56us/step - loss: 1.3276 - acc: 0.5337 - val_loss: 1.4033 - val_acc: 0.4968\n",
      "Epoch 17/50\n",
      "50000/50000 [==============================] - 3s 56us/step - loss: 1.3105 - acc: 0.5390 - val_loss: 1.4353 - val_acc: 0.4855\n",
      "Epoch 18/50\n",
      "50000/50000 [==============================] - 3s 56us/step - loss: 1.2928 - acc: 0.5462 - val_loss: 1.4166 - val_acc: 0.5017\n",
      "Epoch 19/50\n",
      "50000/50000 [==============================] - 3s 57us/step - loss: 1.2766 - acc: 0.5521 - val_loss: 1.3727 - val_acc: 0.5111\n",
      "Epoch 20/50\n",
      "50000/50000 [==============================] - 3s 56us/step - loss: 1.2581 - acc: 0.5568 - val_loss: 1.3771 - val_acc: 0.5040\n",
      "Epoch 21/50\n",
      "50000/50000 [==============================] - 3s 56us/step - loss: 1.2436 - acc: 0.5620 - val_loss: 1.3601 - val_acc: 0.5163\n",
      "Epoch 22/50\n",
      "50000/50000 [==============================] - 3s 56us/step - loss: 1.2263 - acc: 0.5687 - val_loss: 1.4175 - val_acc: 0.4999\n",
      "Epoch 23/50\n",
      "50000/50000 [==============================] - 3s 56us/step - loss: 1.2113 - acc: 0.5742 - val_loss: 1.4520 - val_acc: 0.4904\n",
      "Epoch 24/50\n",
      "50000/50000 [==============================] - 3s 57us/step - loss: 1.1971 - acc: 0.5776 - val_loss: 1.3550 - val_acc: 0.5226\n",
      "Epoch 25/50\n",
      "50000/50000 [==============================] - 3s 56us/step - loss: 1.1851 - acc: 0.5829 - val_loss: 1.3738 - val_acc: 0.5094\n",
      "Epoch 26/50\n",
      "50000/50000 [==============================] - 3s 57us/step - loss: 1.1700 - acc: 0.5872 - val_loss: 1.3475 - val_acc: 0.5223\n",
      "Epoch 27/50\n",
      "50000/50000 [==============================] - 3s 56us/step - loss: 1.1549 - acc: 0.5936 - val_loss: 1.3755 - val_acc: 0.5138\n",
      "Epoch 28/50\n",
      "50000/50000 [==============================] - 3s 55us/step - loss: 1.1436 - acc: 0.5972 - val_loss: 1.3362 - val_acc: 0.5283\n",
      "Epoch 29/50\n",
      "50000/50000 [==============================] - 3s 56us/step - loss: 1.1273 - acc: 0.6015 - val_loss: 1.3630 - val_acc: 0.5216\n",
      "Epoch 30/50\n",
      "50000/50000 [==============================] - 3s 55us/step - loss: 1.1144 - acc: 0.6086 - val_loss: 1.3471 - val_acc: 0.5274\n",
      "Epoch 31/50\n",
      "50000/50000 [==============================] - 3s 55us/step - loss: 1.0990 - acc: 0.6141 - val_loss: 1.3400 - val_acc: 0.5322\n",
      "Epoch 32/50\n",
      "50000/50000 [==============================] - 3s 56us/step - loss: 1.0869 - acc: 0.6176 - val_loss: 1.3847 - val_acc: 0.5194\n",
      "Epoch 33/50\n",
      "50000/50000 [==============================] - 3s 56us/step - loss: 1.0727 - acc: 0.6231 - val_loss: 1.3271 - val_acc: 0.5313\n",
      "Epoch 34/50\n",
      "50000/50000 [==============================] - 3s 58us/step - loss: 1.0595 - acc: 0.6261 - val_loss: 1.3515 - val_acc: 0.5295\n",
      "Epoch 35/50\n",
      "50000/50000 [==============================] - 3s 56us/step - loss: 1.0487 - acc: 0.6291 - val_loss: 1.3427 - val_acc: 0.5302\n",
      "Epoch 36/50\n",
      "50000/50000 [==============================] - 3s 56us/step - loss: 1.0340 - acc: 0.6378 - val_loss: 1.3730 - val_acc: 0.5195\n",
      "Epoch 37/50\n",
      "50000/50000 [==============================] - 3s 55us/step - loss: 1.0252 - acc: 0.6382 - val_loss: 1.3882 - val_acc: 0.5161\n",
      "Epoch 38/50\n",
      "50000/50000 [==============================] - 3s 55us/step - loss: 1.0139 - acc: 0.6419 - val_loss: 1.3900 - val_acc: 0.5199\n",
      "Epoch 39/50\n",
      "50000/50000 [==============================] - 3s 56us/step - loss: 0.9962 - acc: 0.6487 - val_loss: 1.3815 - val_acc: 0.5211\n",
      "Epoch 40/50\n",
      "50000/50000 [==============================] - 3s 56us/step - loss: 0.9875 - acc: 0.6547 - val_loss: 1.3664 - val_acc: 0.5328\n",
      "Epoch 41/50\n",
      "50000/50000 [==============================] - 3s 56us/step - loss: 0.9758 - acc: 0.6571 - val_loss: 1.3706 - val_acc: 0.5259\n",
      "Epoch 42/50\n",
      "50000/50000 [==============================] - 3s 56us/step - loss: 0.9585 - acc: 0.6642 - val_loss: 1.5194 - val_acc: 0.4968\n",
      "Epoch 43/50\n",
      "50000/50000 [==============================] - 3s 57us/step - loss: 0.9507 - acc: 0.6667 - val_loss: 1.3613 - val_acc: 0.5324\n",
      "Epoch 44/50\n",
      "50000/50000 [==============================] - 3s 56us/step - loss: 0.9368 - acc: 0.6701 - val_loss: 1.3768 - val_acc: 0.5327\n",
      "Epoch 45/50\n",
      "50000/50000 [==============================] - 3s 58us/step - loss: 0.9278 - acc: 0.6747 - val_loss: 1.3669 - val_acc: 0.5329\n",
      "Epoch 46/50\n",
      "50000/50000 [==============================] - 3s 58us/step - loss: 0.9146 - acc: 0.6792 - val_loss: 1.5326 - val_acc: 0.5028\n",
      "Epoch 47/50\n",
      "50000/50000 [==============================] - 3s 55us/step - loss: 0.9024 - acc: 0.6838 - val_loss: 1.4851 - val_acc: 0.5085\n",
      "Epoch 48/50\n",
      "50000/50000 [==============================] - 3s 56us/step - loss: 0.8920 - acc: 0.6887 - val_loss: 1.4549 - val_acc: 0.5181\n",
      "Epoch 49/50\n",
      "50000/50000 [==============================] - 3s 54us/step - loss: 0.8805 - acc: 0.6908 - val_loss: 1.4545 - val_acc: 0.51471s -\n",
      "Epoch 50/50\n",
      "50000/50000 [==============================] - 3s 54us/step - loss: 0.8669 - acc: 0.6979 - val_loss: 1.4649 - val_acc: 0.5174\n"
     ]
    }
   ],
   "source": [
    "#results = {}\n",
    "\n",
    "keras.backend.clear_session() # 把舊的 Graph 清掉\n",
    "\n",
    "model = build_mlp(input_shape=x_train.shape[1:])\n",
    "model.summary()\n",
    "optimizer = keras.optimizers.SGD(lr=LEARNING_RATE, nesterov=True, momentum=MOMENTUM)\n",
    "model.compile(loss=\"categorical_crossentropy\", metrics=[\"accuracy\"], optimizer=optimizer)\n",
    "\n",
    "model.fit(x_train, y_train, \n",
    "          epochs=EPOCHS, \n",
    "          batch_size=BATCH_SIZE, \n",
    "          validation_data=(x_test, y_test), \n",
    "          shuffle=True)\n",
    "    \n",
    "    # Collect results\n",
    "train_loss = model.history.history[\"loss\"]\n",
    "valid_loss = model.history.history[\"val_loss\"]\n",
    "train_acc = model.history.history[\"acc\"]\n",
    "valid_acc = model.history.history[\"val_acc\"]\n",
    "    \n",
    "#exp_name_tag = \"exp-lr-%s\" % str(lr)\n",
    "#    results[exp_name_tag] = {'train-loss': train_loss,\n",
    "#                             'valid-loss': valid_loss,\n",
    "#                             'train-acc': train_acc,\n",
    "#                             'valid-acc': valid_acc}"
   ]
  },
  {
   "cell_type": "code",
   "execution_count": 10,
   "metadata": {},
   "outputs": [
    {
     "data": {
      "text/plain": [
       "[<matplotlib.lines.Line2D at 0x22b4658ce48>]"
      ]
     },
     "execution_count": 10,
     "metadata": {},
     "output_type": "execute_result"
    },
    {
     "data": {
      "image/png": "[encoded data removed]",
      "text/plain": [
       "<Figure size 720x360 with 1 Axes>"
      ]
     },
     "metadata": {
      "needs_background": "light"
     },
     "output_type": "display_data"
    }
   ],
   "source": [
    "import matplotlib.pyplot as plt\n",
    "%matplotlib inline\n",
    "plt.subplots(figsize=(10,5))\n",
    "plt.plot(range(len(train_loss)),train_loss)#, '-', label=cond, color=color_bar[i])\n",
    "plt.plot(range(len(valid_loss)),valid_loss)\n",
    "#plt.plot(range(len(results[cond]['valid-loss'])),results[cond]['valid-loss'], '--', label=cond, color=color_bar[i]"
   ]
  }
 ],
 "metadata": {
  "kernelspec": {
   "display_name": "Python 3",
   "language": "python",
   "name": "python3"
  },
  "language_info": {
   "codemirror_mode": {
    "name": "ipython",
    "version": 3
   },
   "file_extension": ".py",
   "mimetype": "text/x-python",
   "name": "python",
   "nbconvert_exporter": "python",
   "pygments_lexer": "ipython3",
   "version": "3.5.6"
  }
 },
 "nbformat": 4,
 "nbformat_minor": 2
}
