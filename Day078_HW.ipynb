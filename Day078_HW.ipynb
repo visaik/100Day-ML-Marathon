{
 "cells": [
  {
   "cell_type": "markdown",
   "metadata": {},
   "source": [
    "## Work\n",
    "1. 請嘗試將 preproc_x 替換成以每筆資料的 min/max 進行標準化至 -1 ~ 1 間，再進行訓練\n",
    "2. 請嘗試將 mlp 疊更深 (e.g 5~10 層)，進行訓練後觀察 learning curve 的走勢\n",
    "3. (optional) 請改用 GPU 進行訓練 (如果你有 GPU 的話)，比較使用 CPU 與 GPU 的訓練速度"
   ]
  },
  {
   "cell_type": "code",
   "execution_count": 8,
   "metadata": {},
   "outputs": [],
   "source": [
    "## \n",
    "import pandas as pd\n",
    "import numpy as np"
   ]
  },
  {
   "cell_type": "code",
   "execution_count": 1,
   "metadata": {},
   "outputs": [
    {
     "name": "stderr",
     "output_type": "stream",
     "text": [
      "Using TensorFlow backend.\n"
     ]
    }
   ],
   "source": [
    "import os\n",
    "import keras\n",
    "\n",
    "# 請嘗試設定 GPU：os.environ\n",
    "os.environ[\"CUDA_VISIBLE_DEVICES\"] = \"\""
   ]
  },
  {
   "cell_type": "code",
   "execution_count": 2,
   "metadata": {},
   "outputs": [],
   "source": [
    "train, test = keras.datasets.cifar10.load_data()"
   ]
  },
  {
   "cell_type": "code",
   "execution_count": 12,
   "metadata": {},
   "outputs": [],
   "source": [
    "## 資料前處理\n",
    "\"\"\"\n",
    "Your code here\n",
    "\"\"\"\n",
    "def preproc_x(x, flatten=True):\n",
    "    x = (x / 255. * 2) -1\n",
    "    if flatten:\n",
    "        x = x.reshape((len(x), -1))\n",
    "    return x\n",
    "\n",
    "def preproc_y(y, num_classes=10):\n",
    "    if y.shape[-1] == 1:\n",
    "        y = keras.utils.to_categorical(y, num_classes)\n",
    "    return y  "
   ]
  },
  {
   "cell_type": "code",
   "execution_count": 13,
   "metadata": {},
   "outputs": [],
   "source": [
    "x_train, y_train = train\n",
    "x_test, y_test = test\n",
    "\n",
    "# Preproc the inputs\n",
    "x_train = preproc_x(x_train)\n",
    "x_test = preproc_x(x_test)\n",
    "\n",
    "# Preprc the outputs\n",
    "y_train = preproc_y(y_train)\n",
    "y_test = preproc_y(y_test)"
   ]
  },
  {
   "cell_type": "code",
   "execution_count": 20,
   "metadata": {},
   "outputs": [
    {
     "name": "stdout",
     "output_type": "stream",
     "text": [
      "_________________________________________________________________\n",
      "Layer (type)                 Output Shape              Param #   \n",
      "=================================================================\n",
      "input_4 (InputLayer)         (None, 3072)              0         \n",
      "_________________________________________________________________\n",
      "hidden_layer1 (Dense)        (None, 512)               1573376   \n",
      "_________________________________________________________________\n",
      "hidden_layer2 (Dense)        (None, 256)               131328    \n",
      "_________________________________________________________________\n",
      "hidden_layer3 (Dense)        (None, 128)               32896     \n",
      "_________________________________________________________________\n",
      "hidden_layer4 (Dense)        (None, 64)                8256      \n",
      "_________________________________________________________________\n",
      "hidden_layer5 (Dense)        (None, 64)                4160      \n",
      "_________________________________________________________________\n",
      "hidden_layer6 (Dense)        (None, 32)                2080      \n",
      "_________________________________________________________________\n",
      "hidden_layer7 (Dense)        (None, 32)                1056      \n",
      "_________________________________________________________________\n",
      "hidden_layer8 (Dense)        (None, 16)                528       \n",
      "_________________________________________________________________\n",
      "output (Dense)               (None, 10)                170       \n",
      "=================================================================\n",
      "Total params: 1,753,850\n",
      "Trainable params: 1,753,850\n",
      "Non-trainable params: 0\n",
      "_________________________________________________________________\n"
     ]
    }
   ],
   "source": [
    "\"\"\"Code Here\n",
    "建立你的神經網路\n",
    "\"\"\"\n",
    "def build_mlp(input_shape, output_units=10, num_neurons=[512, 256, 128, 64, 64, 32, 32, 16]):\n",
    "    input_layer = keras.layers.Input(input_shape)\n",
    "    \n",
    "    for i, n_units in enumerate(num_neurons):\n",
    "        if i == 0:\n",
    "            x = keras.layers.Dense(units=n_units, activation=\"relu\", name=\"hidden_layer\"+str(i+1))(input_layer)\n",
    "        else:\n",
    "            x = keras.layers.Dense(units=n_units, activation=\"relu\", name=\"hidden_layer\"+str(i+1))(x)\n",
    "            \n",
    "    \n",
    "    out = keras.layers.Dense(units=output_units, activation=\"softmax\", name=\"output\")(x)\n",
    "    \n",
    "    model = keras.models.Model(inputs=[input_layer], outputs=[out])\n",
    "    return model\n",
    "model = build_mlp(input_shape=x_train.shape[1:])\n",
    "model.summary()"
   ]
  },
  {
   "cell_type": "code",
   "execution_count": 21,
   "metadata": {},
   "outputs": [],
   "source": [
    "## 超參數設定\n",
    "LEARNING_RATE = 0.001\n",
    "EPOCHS = 100\n",
    "BATCH_SIZE = 256"
   ]
  },
  {
   "cell_type": "code",
   "execution_count": 22,
   "metadata": {},
   "outputs": [],
   "source": [
    "optimizer = keras.optimizers.Adam(lr=LEARNING_RATE)\n",
    "model.compile(loss=\"categorical_crossentropy\", metrics=[\"accuracy\"], optimizer=optimizer)"
   ]
  },
  {
   "cell_type": "code",
   "execution_count": 23,
   "metadata": {},
   "outputs": [
    {
     "name": "stdout",
     "output_type": "stream",
     "text": [
      "Train on 50000 samples, validate on 10000 samples\n",
      "Epoch 1/100\n",
      "50000/50000 [==============================] - 5s 95us/step - loss: 1.8520 - acc: 0.3397 - val_loss: 1.6305 - val_acc: 0.4337\n",
      "Epoch 2/100\n",
      "50000/50000 [==============================] - 3s 66us/step - loss: 1.5738 - acc: 0.4452 - val_loss: 1.5149 - val_acc: 0.4657\n",
      "Epoch 3/100\n",
      "50000/50000 [==============================] - 3s 66us/step - loss: 1.4516 - acc: 0.4903 - val_loss: 1.4746 - val_acc: 0.4815\n",
      "Epoch 4/100\n",
      "50000/50000 [==============================] - 3s 66us/step - loss: 1.3529 - acc: 0.5260 - val_loss: 1.4095 - val_acc: 0.5084\n",
      "Epoch 5/100\n",
      "50000/50000 [==============================] - 3s 66us/step - loss: 1.2725 - acc: 0.5532 - val_loss: 1.3873 - val_acc: 0.5196\n",
      "Epoch 6/100\n",
      "50000/50000 [==============================] - 3s 69us/step - loss: 1.1835 - acc: 0.5833 - val_loss: 1.3780 - val_acc: 0.5233\n",
      "Epoch 7/100\n",
      "50000/50000 [==============================] - 3s 68us/step - loss: 1.1185 - acc: 0.6076 - val_loss: 1.3812 - val_acc: 0.5311\n",
      "Epoch 8/100\n",
      "50000/50000 [==============================] - 3s 67us/step - loss: 1.0506 - acc: 0.6309 - val_loss: 1.3639 - val_acc: 0.5325\n",
      "Epoch 9/100\n",
      "50000/50000 [==============================] - 3s 67us/step - loss: 0.9780 - acc: 0.6555 - val_loss: 1.4296 - val_acc: 0.5323\n",
      "Epoch 10/100\n",
      "50000/50000 [==============================] - 3s 67us/step - loss: 0.9161 - acc: 0.6791 - val_loss: 1.4154 - val_acc: 0.5396\n",
      "Epoch 11/100\n",
      "50000/50000 [==============================] - 3s 70us/step - loss: 0.8532 - acc: 0.6998 - val_loss: 1.4525 - val_acc: 0.5390\n",
      "Epoch 12/100\n",
      "50000/50000 [==============================] - 3s 68us/step - loss: 0.7904 - acc: 0.7203 - val_loss: 1.4623 - val_acc: 0.5396\n",
      "Epoch 13/100\n",
      "50000/50000 [==============================] - 3s 66us/step - loss: 0.7300 - acc: 0.7425 - val_loss: 1.5238 - val_acc: 0.5322\n",
      "Epoch 14/100\n",
      "50000/50000 [==============================] - 3s 67us/step - loss: 0.6874 - acc: 0.7586 - val_loss: 1.5562 - val_acc: 0.5292\n",
      "Epoch 15/100\n",
      "50000/50000 [==============================] - 3s 67us/step - loss: 0.6404 - acc: 0.7760 - val_loss: 1.6152 - val_acc: 0.5353\n",
      "Epoch 16/100\n",
      "50000/50000 [==============================] - 3s 66us/step - loss: 0.5926 - acc: 0.7922 - val_loss: 1.6744 - val_acc: 0.5375\n",
      "Epoch 17/100\n",
      "50000/50000 [==============================] - 3s 67us/step - loss: 0.5344 - acc: 0.8124 - val_loss: 1.7838 - val_acc: 0.5363\n",
      "Epoch 18/100\n",
      "50000/50000 [==============================] - 3s 67us/step - loss: 0.5018 - acc: 0.8247 - val_loss: 1.8227 - val_acc: 0.5445\n",
      "Epoch 19/100\n",
      "50000/50000 [==============================] - 3s 67us/step - loss: 0.4773 - acc: 0.8331 - val_loss: 1.8895 - val_acc: 0.5331\n",
      "Epoch 20/100\n",
      "50000/50000 [==============================] - 3s 66us/step - loss: 0.4481 - acc: 0.8421 - val_loss: 2.0156 - val_acc: 0.5340\n",
      "Epoch 21/100\n",
      "50000/50000 [==============================] - 3s 66us/step - loss: 0.4104 - acc: 0.8561 - val_loss: 2.1227 - val_acc: 0.5312\n",
      "Epoch 22/100\n",
      "50000/50000 [==============================] - 3s 66us/step - loss: 0.3820 - acc: 0.8675 - val_loss: 2.1965 - val_acc: 0.5247\n",
      "Epoch 23/100\n",
      "50000/50000 [==============================] - 3s 67us/step - loss: 0.3570 - acc: 0.8772 - val_loss: 2.1790 - val_acc: 0.5289\n",
      "Epoch 24/100\n",
      "50000/50000 [==============================] - 3s 66us/step - loss: 0.3405 - acc: 0.8813 - val_loss: 2.2784 - val_acc: 0.5354\n",
      "Epoch 25/100\n",
      "50000/50000 [==============================] - 3s 66us/step - loss: 0.3229 - acc: 0.8882 - val_loss: 2.2979 - val_acc: 0.5301\n",
      "Epoch 26/100\n",
      "50000/50000 [==============================] - 3s 67us/step - loss: 0.3005 - acc: 0.8971 - val_loss: 2.4191 - val_acc: 0.5376\n",
      "Epoch 27/100\n",
      "50000/50000 [==============================] - 3s 66us/step - loss: 0.2816 - acc: 0.9029 - val_loss: 2.3986 - val_acc: 0.5278\n",
      "Epoch 28/100\n",
      "50000/50000 [==============================] - 3s 67us/step - loss: 0.2783 - acc: 0.9052 - val_loss: 2.4725 - val_acc: 0.5283\n",
      "Epoch 29/100\n",
      "50000/50000 [==============================] - 3s 68us/step - loss: 0.2638 - acc: 0.9092 - val_loss: 2.4428 - val_acc: 0.5350\n",
      "Epoch 30/100\n",
      "50000/50000 [==============================] - 3s 66us/step - loss: 0.2491 - acc: 0.9154 - val_loss: 2.5461 - val_acc: 0.5367\n",
      "Epoch 31/100\n",
      "50000/50000 [==============================] - 3s 67us/step - loss: 0.2268 - acc: 0.9233 - val_loss: 2.6200 - val_acc: 0.5351\n",
      "Epoch 32/100\n",
      "50000/50000 [==============================] - 3s 67us/step - loss: 0.2237 - acc: 0.9242 - val_loss: 2.7172 - val_acc: 0.5279\n",
      "Epoch 33/100\n",
      "50000/50000 [==============================] - 3s 66us/step - loss: 0.2122 - acc: 0.9281 - val_loss: 2.6995 - val_acc: 0.5309\n",
      "Epoch 34/100\n",
      "50000/50000 [==============================] - 3s 66us/step - loss: 0.2034 - acc: 0.9312 - val_loss: 2.8374 - val_acc: 0.5331\n",
      "Epoch 35/100\n",
      "50000/50000 [==============================] - 3s 67us/step - loss: 0.1963 - acc: 0.9343 - val_loss: 2.8595 - val_acc: 0.5272\n",
      "Epoch 36/100\n",
      "50000/50000 [==============================] - 3s 67us/step - loss: 0.1984 - acc: 0.9343 - val_loss: 2.7868 - val_acc: 0.5291\n",
      "Epoch 37/100\n",
      "50000/50000 [==============================] - 3s 67us/step - loss: 0.1781 - acc: 0.9394 - val_loss: 2.8708 - val_acc: 0.5269\n",
      "Epoch 38/100\n",
      "50000/50000 [==============================] - 3s 67us/step - loss: 0.1799 - acc: 0.9397 - val_loss: 2.8298 - val_acc: 0.5320\n",
      "Epoch 39/100\n",
      "50000/50000 [==============================] - 3s 69us/step - loss: 0.1731 - acc: 0.9419 - val_loss: 2.9580 - val_acc: 0.5293\n",
      "Epoch 40/100\n",
      "50000/50000 [==============================] - 3s 67us/step - loss: 0.1666 - acc: 0.9441 - val_loss: 3.0352 - val_acc: 0.5241\n",
      "Epoch 41/100\n",
      "50000/50000 [==============================] - 3s 66us/step - loss: 0.1525 - acc: 0.9490 - val_loss: 3.0822 - val_acc: 0.5259\n",
      "Epoch 42/100\n",
      "50000/50000 [==============================] - 3s 66us/step - loss: 0.1740 - acc: 0.9409 - val_loss: 3.0301 - val_acc: 0.5289\n",
      "Epoch 43/100\n",
      "50000/50000 [==============================] - 3s 67us/step - loss: 0.1539 - acc: 0.9481 - val_loss: 3.0330 - val_acc: 0.5282\n",
      "Epoch 44/100\n",
      "50000/50000 [==============================] - 3s 66us/step - loss: 0.1513 - acc: 0.9510 - val_loss: 3.1100 - val_acc: 0.5284\n",
      "Epoch 45/100\n",
      "50000/50000 [==============================] - 3s 66us/step - loss: 0.1485 - acc: 0.9499 - val_loss: 3.0205 - val_acc: 0.5291\n",
      "Epoch 46/100\n",
      "50000/50000 [==============================] - 3s 66us/step - loss: 0.1360 - acc: 0.9545 - val_loss: 3.1816 - val_acc: 0.5234\n",
      "Epoch 47/100\n",
      "50000/50000 [==============================] - 3s 66us/step - loss: 0.1482 - acc: 0.9513 - val_loss: 3.0864 - val_acc: 0.5266\n",
      "Epoch 48/100\n",
      "50000/50000 [==============================] - 3s 66us/step - loss: 0.1466 - acc: 0.9504 - val_loss: 3.1690 - val_acc: 0.5225\n",
      "Epoch 49/100\n",
      "50000/50000 [==============================] - 3s 67us/step - loss: 0.1311 - acc: 0.9564 - val_loss: 3.1698 - val_acc: 0.5261\n",
      "Epoch 50/100\n",
      "50000/50000 [==============================] - 3s 66us/step - loss: 0.1369 - acc: 0.9534 - val_loss: 3.1472 - val_acc: 0.5205\n",
      "Epoch 51/100\n",
      "50000/50000 [==============================] - 3s 66us/step - loss: 0.1234 - acc: 0.9592 - val_loss: 3.2637 - val_acc: 0.5309\n",
      "Epoch 52/100\n",
      "50000/50000 [==============================] - 3s 66us/step - loss: 0.1052 - acc: 0.9647 - val_loss: 3.4424 - val_acc: 0.5281\n",
      "Epoch 53/100\n",
      "50000/50000 [==============================] - 3s 66us/step - loss: 0.1332 - acc: 0.9558 - val_loss: 3.1603 - val_acc: 0.5342\n",
      "Epoch 54/100\n",
      "50000/50000 [==============================] - 3s 66us/step - loss: 0.1362 - acc: 0.9554 - val_loss: 3.1643 - val_acc: 0.5218\n",
      "Epoch 55/100\n",
      "50000/50000 [==============================] - 3s 66us/step - loss: 0.1105 - acc: 0.9636 - val_loss: 3.2548 - val_acc: 0.5307\n",
      "Epoch 56/100\n",
      "50000/50000 [==============================] - 3s 66us/step - loss: 0.1175 - acc: 0.9613 - val_loss: 3.1923 - val_acc: 0.5364\n",
      "Epoch 57/100\n",
      "50000/50000 [==============================] - 3s 66us/step - loss: 0.1081 - acc: 0.9648 - val_loss: 3.2419 - val_acc: 0.5266\n",
      "Epoch 58/100\n",
      "50000/50000 [==============================] - 3s 66us/step - loss: 0.1152 - acc: 0.9624 - val_loss: 3.2747 - val_acc: 0.5301\n",
      "Epoch 59/100\n"
     ]
    },
    {
     "name": "stdout",
     "output_type": "stream",
     "text": [
      "50000/50000 [==============================] - 3s 66us/step - loss: 0.1097 - acc: 0.9648 - val_loss: 3.2492 - val_acc: 0.5330\n",
      "Epoch 60/100\n",
      "50000/50000 [==============================] - 3s 67us/step - loss: 0.1034 - acc: 0.9661 - val_loss: 3.2374 - val_acc: 0.5235\n",
      "Epoch 61/100\n",
      "50000/50000 [==============================] - 3s 66us/step - loss: 0.1185 - acc: 0.9616 - val_loss: 3.1983 - val_acc: 0.5271\n",
      "Epoch 62/100\n",
      "50000/50000 [==============================] - 3s 66us/step - loss: 0.0998 - acc: 0.9675 - val_loss: 3.3163 - val_acc: 0.5345\n",
      "Epoch 63/100\n",
      "50000/50000 [==============================] - 3s 66us/step - loss: 0.1079 - acc: 0.9651 - val_loss: 3.2540 - val_acc: 0.5311\n",
      "Epoch 64/100\n",
      "50000/50000 [==============================] - 3s 66us/step - loss: 0.1064 - acc: 0.9656 - val_loss: 3.0901 - val_acc: 0.5294\n",
      "Epoch 65/100\n",
      "50000/50000 [==============================] - 3s 66us/step - loss: 0.0997 - acc: 0.9681 - val_loss: 3.3108 - val_acc: 0.5315\n",
      "Epoch 66/100\n",
      "50000/50000 [==============================] - 4s 73us/step - loss: 0.0937 - acc: 0.9692 - val_loss: 3.4310 - val_acc: 0.5325\n",
      "Epoch 67/100\n",
      "50000/50000 [==============================] - 3s 67us/step - loss: 0.0830 - acc: 0.9737 - val_loss: 3.5292 - val_acc: 0.5342\n",
      "Epoch 68/100\n",
      "50000/50000 [==============================] - 3s 66us/step - loss: 0.0967 - acc: 0.9691 - val_loss: 3.3457 - val_acc: 0.5247\n",
      "Epoch 69/100\n",
      "50000/50000 [==============================] - 3s 66us/step - loss: 0.1043 - acc: 0.9662 - val_loss: 3.3159 - val_acc: 0.5254\n",
      "Epoch 70/100\n",
      "50000/50000 [==============================] - 3s 66us/step - loss: 0.0853 - acc: 0.9719 - val_loss: 3.4440 - val_acc: 0.5256\n",
      "Epoch 71/100\n",
      "50000/50000 [==============================] - 3s 66us/step - loss: 0.0814 - acc: 0.9739 - val_loss: 3.6408 - val_acc: 0.5269\n",
      "Epoch 72/100\n",
      "50000/50000 [==============================] - 3s 67us/step - loss: 0.0902 - acc: 0.9713 - val_loss: 3.3088 - val_acc: 0.5262\n",
      "Epoch 73/100\n",
      "50000/50000 [==============================] - 3s 66us/step - loss: 0.1050 - acc: 0.9655 - val_loss: 3.3283 - val_acc: 0.5272\n",
      "Epoch 74/100\n",
      "50000/50000 [==============================] - 3s 66us/step - loss: 0.0787 - acc: 0.9745 - val_loss: 3.5689 - val_acc: 0.5363\n",
      "Epoch 75/100\n",
      "50000/50000 [==============================] - 3s 67us/step - loss: 0.0930 - acc: 0.9701 - val_loss: 3.3710 - val_acc: 0.5279\n",
      "Epoch 76/100\n",
      "50000/50000 [==============================] - 3s 66us/step - loss: 0.0931 - acc: 0.9699 - val_loss: 3.4296 - val_acc: 0.5421\n",
      "Epoch 77/100\n",
      "50000/50000 [==============================] - 3s 66us/step - loss: 0.0681 - acc: 0.9775 - val_loss: 3.4556 - val_acc: 0.5321\n",
      "Epoch 78/100\n",
      "50000/50000 [==============================] - 3s 66us/step - loss: 0.0993 - acc: 0.9696 - val_loss: 3.4433 - val_acc: 0.5430\n",
      "Epoch 79/100\n",
      "50000/50000 [==============================] - 3s 66us/step - loss: 0.0659 - acc: 0.9785 - val_loss: 3.5841 - val_acc: 0.5392\n",
      "Epoch 80/100\n",
      "50000/50000 [==============================] - 3s 66us/step - loss: 0.0863 - acc: 0.9730 - val_loss: 3.4368 - val_acc: 0.5346\n",
      "Epoch 81/100\n",
      "50000/50000 [==============================] - 3s 66us/step - loss: 0.0768 - acc: 0.9760 - val_loss: 3.3595 - val_acc: 0.5340\n",
      "Epoch 82/100\n",
      "50000/50000 [==============================] - 3s 67us/step - loss: 0.0806 - acc: 0.9738 - val_loss: 3.5509 - val_acc: 0.5285 0s - loss: 0.0784 -\n",
      "Epoch 83/100\n",
      "50000/50000 [==============================] - 3s 66us/step - loss: 0.0819 - acc: 0.9738 - val_loss: 3.3909 - val_acc: 0.5334\n",
      "Epoch 84/100\n",
      "50000/50000 [==============================] - 3s 66us/step - loss: 0.0727 - acc: 0.9762 - val_loss: 3.5700 - val_acc: 0.5300\n",
      "Epoch 85/100\n",
      "50000/50000 [==============================] - 3s 66us/step - loss: 0.0867 - acc: 0.9721 - val_loss: 3.4237 - val_acc: 0.5331\n",
      "Epoch 86/100\n",
      "50000/50000 [==============================] - 3s 66us/step - loss: 0.0814 - acc: 0.9740 - val_loss: 3.4992 - val_acc: 0.5322\n",
      "Epoch 87/100\n",
      "50000/50000 [==============================] - 3s 66us/step - loss: 0.0814 - acc: 0.9742 - val_loss: 3.4604 - val_acc: 0.5335\n",
      "Epoch 88/100\n",
      "50000/50000 [==============================] - 3s 66us/step - loss: 0.0713 - acc: 0.9771 - val_loss: 3.6116 - val_acc: 0.5368\n",
      "Epoch 89/100\n",
      "50000/50000 [==============================] - 3s 69us/step - loss: 0.0725 - acc: 0.9762 - val_loss: 3.4698 - val_acc: 0.5316\n",
      "Epoch 90/100\n",
      "50000/50000 [==============================] - 3s 68us/step - loss: 0.0799 - acc: 0.9748 - val_loss: 3.4031 - val_acc: 0.5338\n",
      "Epoch 91/100\n",
      "50000/50000 [==============================] - 3s 66us/step - loss: 0.0634 - acc: 0.9796 - val_loss: 3.7514 - val_acc: 0.5323\n",
      "Epoch 92/100\n",
      "50000/50000 [==============================] - 3s 67us/step - loss: 0.0627 - acc: 0.9805 - val_loss: 3.5933 - val_acc: 0.5294\n",
      "Epoch 93/100\n",
      "50000/50000 [==============================] - 3s 66us/step - loss: 0.0667 - acc: 0.9791 - val_loss: 3.5017 - val_acc: 0.5337\n",
      "Epoch 94/100\n",
      "50000/50000 [==============================] - 3s 66us/step - loss: 0.0701 - acc: 0.9779 - val_loss: 3.5456 - val_acc: 0.5319\n",
      "Epoch 95/100\n",
      "50000/50000 [==============================] - 3s 66us/step - loss: 0.0687 - acc: 0.9781 - val_loss: 3.5741 - val_acc: 0.5283\n",
      "Epoch 96/100\n",
      "50000/50000 [==============================] - 3s 67us/step - loss: 0.0751 - acc: 0.9760 - val_loss: 3.4154 - val_acc: 0.5321\n",
      "Epoch 97/100\n",
      "50000/50000 [==============================] - 3s 67us/step - loss: 0.0671 - acc: 0.9785 - val_loss: 3.6208 - val_acc: 0.5330\n",
      "Epoch 98/100\n",
      "50000/50000 [==============================] - 3s 66us/step - loss: 0.0629 - acc: 0.9807 - val_loss: 3.6300 - val_acc: 0.5310\n",
      "Epoch 99/100\n",
      "50000/50000 [==============================] - 3s 66us/step - loss: 0.0677 - acc: 0.9787 - val_loss: 3.6807 - val_acc: 0.5245\n",
      "Epoch 100/100\n",
      "50000/50000 [==============================] - 3s 67us/step - loss: 0.0591 - acc: 0.9814 - val_loss: 3.5627 - val_acc: 0.5263\n"
     ]
    },
    {
     "data": {
      "text/plain": [
       "<keras.callbacks.History at 0x2c3dabe43c8>"
      ]
     },
     "execution_count": 23,
     "metadata": {},
     "output_type": "execute_result"
    }
   ],
   "source": [
    "model.fit(x_train, y_train, \n",
    "          epochs=EPOCHS, \n",
    "          batch_size=BATCH_SIZE, \n",
    "          validation_data=(x_test, y_test), \n",
    "          shuffle=True)"
   ]
  },
  {
   "cell_type": "code",
   "execution_count": 24,
   "metadata": {},
   "outputs": [
    {
     "data": {
      "image/png": "[encoded data removed]",
      "text/plain": [
       "<Figure size 432x288 with 1 Axes>"
      ]
     },
     "metadata": {
      "needs_background": "light"
     },
     "output_type": "display_data"
    },
    {
     "data": {
      "image/png": "[encoded data removed]",
      "text/plain": [
       "<Figure size 432x288 with 1 Axes>"
      ]
     },
     "metadata": {
      "needs_background": "light"
     },
     "output_type": "display_data"
    }
   ],
   "source": [
    "import matplotlib.pyplot as plt\n",
    "%matplotlib inline\n",
    "\n",
    "train_loss = model.history.history[\"loss\"]\n",
    "valid_loss = model.history.history[\"val_loss\"]\n",
    "\n",
    "train_acc = model.history.history[\"acc\"]\n",
    "valid_acc = model.history.history[\"val_acc\"]\n",
    "\n",
    "plt.plot(range(len(train_loss)), train_loss, label=\"train loss\")\n",
    "plt.plot(range(len(valid_loss)), valid_loss, label=\"valid loss\")\n",
    "plt.legend()\n",
    "plt.title(\"Loss\")\n",
    "plt.show()\n",
    "\n",
    "plt.plot(range(len(train_acc)), train_acc, label=\"train accuracy\")\n",
    "plt.plot(range(len(valid_acc)), valid_acc, label=\"valid accuracy\")\n",
    "plt.legend()\n",
    "plt.title(\"Accuracy\")\n",
    "plt.show()"
   ]
  }
 ],
 "metadata": {
  "kernelspec": {
   "display_name": "Python 3",
   "language": "python",
   "name": "python3"
  },
  "language_info": {
   "codemirror_mode": {
    "name": "ipython",
    "version": 3
   },
   "file_extension": ".py",
   "mimetype": "text/x-python",
   "name": "python",
   "nbconvert_exporter": "python",
   "pygments_lexer": "ipython3",
   "version": "3.5.6"
  }
 },
 "nbformat": 4,
 "nbformat_minor": 2
}
